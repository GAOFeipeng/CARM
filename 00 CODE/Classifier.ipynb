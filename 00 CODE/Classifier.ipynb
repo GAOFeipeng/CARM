{
 "cells": [
  {
   "cell_type": "code",
   "execution_count": 1,
   "metadata": {},
   "outputs": [],
   "source": [
    "import pandas as pd\n",
    "import numpy as np"
   ]
  },
  {
   "cell_type": "code",
   "execution_count": 2,
   "metadata": {},
   "outputs": [],
   "source": [
    "def autoRate(v):\n",
    "    v.sort()\n",
    "    pos_l = 0\n",
    "    neg_l = 0\n",
    "    pos_r = len(v) / 2\n",
    "    neg_r = len(v) / 2\n",
    "    acc = 0\n",
    "    ans = 0\n",
    "    for i in range(1, len(v)):\n",
    "        x = (v[i - 1][0] + v[i][0]) / 2\n",
    "#         x = v[i-1][0]\n",
    "        if v[i - 1][1] == 1:\n",
    "            # 说明前一个是负\n",
    "            neg_l += 1\n",
    "            neg_r -= 1\n",
    "        else :\n",
    "            pos_l += 1\n",
    "            pos_r -= 1\n",
    "        if (pos_l + neg_r) / len(v) > acc:\n",
    "            acc = (pos_l + neg_r) / len(v)\n",
    "            ans = x\n",
    "    return acc, ans"
   ]
  },
  {
   "cell_type": "code",
   "execution_count": 3,
   "metadata": {},
   "outputs": [],
   "source": [
    "def NonAutoRate(f, x=1):\n",
    "    ans = 0\n",
    "    for t in f:\n",
    "#         print(t)\n",
    "        if t[0] <= x and t[1] == 0: ans += 1\n",
    "        elif t[0] > x and t[1] == 1: ans += 1\n",
    "    return (ans / len(f), x)"
   ]
  },
  {
   "cell_type": "code",
   "execution_count": null,
   "metadata": {},
   "outputs": [],
   "source": [
    "# 单个分类器准确率\n",
    "for x in range(1, 11):\n",
    "\n",
    "    train = np.array(pd.read_csv(\"../01 DATA/CNV/EN_VALID_RATE_ALL_\" + str(x) + \".csv\", header=None).values)\n",
    "    test = np.array(pd.read_csv(\"../01 DATA/CNV/EN_TEST_RATE_ALL_\" + str(x) + \".csv\", header=None).values)\n",
    "\n",
    "    feature_len = 0\n",
    "\n",
    "    sample_train = []\n",
    "    len_train = len(train)\n",
    "\n",
    "    for i in range(len_train):\n",
    "        r = 0\n",
    "        A = train[i][feature_len*2]\n",
    "        B = train[i][feature_len*2+1]\n",
    "        if A + B != 0:\n",
    "            r = B / (A + B)\n",
    "        sample_train.append([r, train[i][-1]])\n",
    "#     print(sample_train)\n",
    "    sample_test = []\n",
    "    len_test = len(test)\n",
    "\n",
    "    for i in range(len_test):\n",
    "        r = 0\n",
    "        A = test[i][feature_len*2]\n",
    "        B = test[i][feature_len*2+1]\n",
    "        if A + B != 0:\n",
    "            r = B / (A + B)\n",
    "        sample_test.append([r, test[i][-1]])\n",
    "\n",
    "    res = autoRate(sample_train)\n",
    "\n",
    "    # record auto's argement.\n",
    "    ans_auto = NonAutoRate(sample_test, res[1])[0]\n",
    "    ans_non_auto = NonAutoRate(sample_test, 0.5)[0]\n",
    "    print(\"rate=\", x, \"auto=\", ans_auto*100, \"non_auto=\", ans_non_auto*100, \"threshold=\", res[1])"
   ]
  },
  {
   "cell_type": "code",
   "execution_count": 19,
   "metadata": {},
   "outputs": [
    {
     "name": "stdout",
     "output_type": "stream",
     "text": [
      "rate= 1 auto= 74.74293059125964 non_auto= 66.75771208226222 threshold= 0.5517767031118588\n",
      "rate= 2 auto= 86.80912596401028 non_auto= 76.97622107969153 threshold= 0.5483870967741935\n",
      "rate= 3 auto= 94.32840616966581 non_auto= 85.23457583547558 threshold= 0.5409593604554703\n",
      "rate= 4 auto= 97.70244215938303 non_auto= 92.38431876606684 threshold= 0.543646346929628\n",
      "rate= 5 auto= 99.27699228791774 non_auto= 96.48136246786633 threshold= 0.5358692913558338\n",
      "rate= 6 auto= 99.93573264781492 non_auto= 98.7146529562982 threshold= 0.5438239360884929\n",
      "rate= 7 auto= 99.90359897172236 non_auto= 99.56619537275064 threshold= 0.5377695273454234\n",
      "rate= 8 auto= 99.96786632390744 non_auto= 99.90359897172236 threshold= 0.5522671568627451\n",
      "rate= 9 auto= 100.0 non_auto= 99.98393316195373 threshold= 0.5699869841512901\n",
      "rate= 10 auto= 100.0 non_auto= 100.0 threshold= 0.5397148019099238\n"
     ]
    }
   ],
   "source": [
    "for x in range(1, 11):\n",
    "\n",
    "    train = np.array(pd.read_csv(\"../01 DATA/CNV/CH_VALID_RATE_ALL_\" + str(x) + \".csv\", header=None).values)\n",
    "    test = np.array(pd.read_csv(\"../01 DATA/CNV/CH_TEST_RATE_ALL_\" + str(x) + \".csv\", header=None).values)\n",
    "\n",
    "    feature_len = 5\n",
    "\n",
    "    sample_train = []\n",
    "    len_train = len(train)\n",
    "\n",
    "    for i in range(len_train):\n",
    "        r = 0\n",
    "        A = sum(train[i][:feature_len*2][::2])\n",
    "        B = sum(train[i][:feature_len*2][1::2])\n",
    "        if A + B != 0:\n",
    "            r = B / (A + B)\n",
    "        sample_train.append([r, train[i][-1]])\n",
    "#     print(sample_train)\n",
    "    sample_test = []\n",
    "    len_test = len(test)\n",
    "\n",
    "    for i in range(len_test):\n",
    "        r = 0\n",
    "        A = sum(test[i][:feature_len*2][::2])\n",
    "        B = sum(test[i][:feature_len*2][1::2])\n",
    "        if A + B != 0:\n",
    "            r = B / (A + B)\n",
    "        sample_test.append([r, test[i][-1]])\n",
    "\n",
    "    res = autoRate(sample_train)\n",
    "\n",
    "    # record auto's argement.\n",
    "    ans_auto = NonAutoRate(sample_test, res[1])[0]\n",
    "    ans_non_auto = NonAutoRate(sample_test, 0.5)[0]\n",
    "    print(\"rate=\", x, \"auto=\", ans_auto*100, \"non_auto=\", ans_non_auto*100, \"threshold=\", res[1])"
   ]
  },
  {
   "cell_type": "code",
   "execution_count": null,
   "metadata": {},
   "outputs": [],
   "source": []
  }
 ],
 "metadata": {
  "kernelspec": {
   "display_name": "Python 3",
   "language": "python",
   "name": "python3"
  },
  "language_info": {
   "codemirror_mode": {
    "name": "ipython",
    "version": 3
   },
   "file_extension": ".py",
   "mimetype": "text/x-python",
   "name": "python",
   "nbconvert_exporter": "python",
   "pygments_lexer": "ipython3",
   "version": "3.8.3"
  }
 },
 "nbformat": 4,
 "nbformat_minor": 4
}
